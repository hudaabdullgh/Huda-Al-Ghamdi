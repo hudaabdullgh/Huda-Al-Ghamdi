{
 "cells": [
  {
   "cell_type": "markdown",
   "metadata": {
    "colab_type": "text",
    "id": "0MzTDC6D2hcA"
   },
   "source": [
    "# Project 1: Driving Licenses, Traffic Accidents and Casualties Analysis"
   ]
  },
  {
   "cell_type": "markdown",
   "metadata": {
    "colab_type": "text",
    "id": "fqu9vbAj2hcB"
   },
   "source": [
    "## Problem Statment\n",
    "\n",
    "Craft your problem statement here using the prompt from the README and other sources you find during your investigation."
   ]
  },
  {
   "cell_type": "markdown",
   "metadata": {
    "colab_type": "text",
    "id": "PsWA2Qtp2hcC"
   },
   "source": []
  },
  {
   "cell_type": "markdown",
   "metadata": {
    "colab_type": "text",
    "id": "de9IzwVI2hcD"
   },
   "source": [
    "## Executive Summary\n",
    "Write an executive summary that summarizes the problem and your key findings."
   ]
  },
  {
   "cell_type": "markdown",
   "metadata": {
    "colab_type": "text",
    "id": "vtRa0FHC2hcD"
   },
   "source": []
  },
  {
   "cell_type": "markdown",
   "metadata": {
    "colab_type": "text",
    "id": "z4U_FCur2hcE"
   },
   "source": [
    "### Contents:\n",
    "- [Datasets Description](#Datasets-Description)\n",
    "- [Data Import & Cleaning](#Data-Import-and-Cleaning)\n",
    "- [Exploratory Data Analysis](#Exploratory-Data-Analysis)\n",
    "- [Data Visualization](#Visualize-the-data)\n",
    "- [Descriptive and Inferential Statistics](#Descriptive-and-Inferential-Statistics)\n",
    "- [Outside Research](#Outside-Research)\n",
    "- [Conclusions and Recommendations](#Conclusions-and-Recommendations)"
   ]
  },
  {
   "cell_type": "markdown",
   "metadata": {
    "colab_type": "text",
    "id": "EkT2uoRy2hcF"
   },
   "source": [
    "**If you combine your problem statement, executive summary, data dictionary, and conclusions/recommendations, you have an amazing README.md file that quickly aligns your audience to the contents of your project.** Don't forget to cite your data sources!"
   ]
  },
  {
   "cell_type": "markdown",
   "metadata": {
    "colab_type": "text",
    "id": "hx33HolP2hcF"
   },
   "source": [
    "*All libraries used should be added here, including any Jupyter magic commands*"
   ]
  },
  {
   "cell_type": "code",
   "execution_count": 0,
   "metadata": {
    "colab": {},
    "colab_type": "code",
    "id": "pDnmvmi72hcG"
   },
   "outputs": [],
   "source": [
    "#Imports\n",
    "import numpy as np\n",
    "import pandas as pd\n",
    "import seaborn as sns\n",
    "import matplotlib.pyplot as plt"
   ]
  },
  {
   "cell_type": "markdown",
   "metadata": {
    "colab_type": "text",
    "id": "ExEt_c4r2hcJ"
   },
   "source": [
    "## Datasets Description\n",
    "\n",
    "[Driving Licenses](https://datasource.kapsarc.org/explore/dataset/saudi-arabia-driving-licenses-issued-in-the-kingdom-2004-2008/information/?disjunctive.administritive_area&sort=time_period&location=5,24.37495,45.08024&basemap=jawg.streets)\n",
    "This dataset contains Saudi Arabia Driving Licenses Issued By Administrative Area for 1993 - 2016. Data from General Authority for Statistics . Follow datasource.kapsarc.org for timely data to advance energy economics research.\n",
    "\n",
    "[Traffic Accidents and Casualties](https://datasource.kapsarc.org/explore/dataset/saudi-arabia-traffic-accidents-and-casualties-injured-dead-2008/export/?disjunctive.region&disjunctive.indicator&sort=time_period)\n",
    "This dataset contains Saudi Arabia Traffic Accidents and Casualties by Region for 2016. Data from General Authority for Statistics. Follow datasource.kapsarc.org for timely data to advance energy economics research.\n"
   ]
  },
  {
   "cell_type": "markdown",
   "metadata": {
    "colab_type": "text",
    "id": "dhebcvKg2hcJ"
   },
   "source": [
    "## Data Import and Cleaning"
   ]
  },
  {
   "cell_type": "markdown",
   "metadata": {
    "colab_type": "text",
    "id": "RdPZ1CL-2hcK"
   },
   "source": [
    "#### 1. Read In Driving Licenses & Traffic Accidents Data\n",
    "Read in the `saudi-arabia-traffic-accidents-2008.csv` and `saudi-arabia-driving-licenses-2004-2008.csv` files and assign them to appropriately named pandas dataframes."
   ]
  },
  {
   "cell_type": "code",
   "execution_count": 0,
   "metadata": {
    "colab": {},
    "colab_type": "code",
    "id": "mBj0sjd32hcL"
   },
   "outputs": [],
   "source": [
    "#Code\n",
    "# reading csv\n",
    "driving_licenses_df = pd.read_csv(\"saudi-arabia-driving-licenses-2004-2008.csv\", sep=\";\")\n",
    "traffic_accidents_df = pd.read_csv(\"saudi-arabia-traffic-accidents-2008.csv\", sep=\";\")\n",
    "\n",
    "# slicing the first extra columns\n",
    "traffic_accidents_df = traffic_accidents_df.iloc[:,2:]\n",
    "driving_licenses_df = driving_licenses_df.iloc[:,1:]"
   ]
  },
  {
   "cell_type": "markdown",
   "metadata": {
    "colab_type": "text",
    "id": "wXPJq8A32hcO"
   },
   "source": [
    "#### 2. Display data\n",
    "\n",
    "Print the first 10 rows of each dataframe to your jupyter notebook"
   ]
  },
  {
   "cell_type": "code",
   "execution_count": 3,
   "metadata": {
    "colab": {
     "base_uri": "https://localhost:8080/",
     "height": 420
    },
    "colab_type": "code",
    "id": "OeTlFfY72hcP",
    "outputId": "4b55ba9f-ff12-44b0-c706-d032bebc02dd"
   },
   "outputs": [
    {
     "name": "stdout",
     "output_type": "stream",
     "text": [
      "     Year            Region  ...   Value                  geo_point_2d\n",
      "0  (2016)            Makkah  ...  12383n   21.628962766, 41.2636898334\n",
      "1  (2016)    Eastern Region  ...   1113n  23.2883307307, 50.1478302439\n",
      "2  (2016)            Tabouk  ...    434n    27.90165499, 37.2598581394\n",
      "3  (2016)              Hail  ...    299n   27.400845724, 41.4406960508\n",
      "4  (2016)              Hail  ...  10199n   27.400845724, 41.4406960508\n",
      "5  (2016)  Northern Boarder  ...    193n   30.197074783, 41.8171186952\n",
      "6  (2017)             Jazan  ...  22161n  17.2072313962, 42.6525807422\n",
      "7  (2017)           Al-Jouf  ...  10469n  29.9677445762, 39.5570371172\n",
      "8  (2017)             Total  ...   7489n                           NaN\n",
      "9  (2016)  Northern Boarder  ...    631n   30.197074783, 41.8171186952\n",
      "\n",
      "[10 rows x 5 columns]\n",
      "     Year Administritive Area Driving Liceses                 geo_point_2d\n",
      "0  (2012)              Makkah         143954n  21.628962766, 41.2636898334\n",
      "1  (1994)              Makkah          75349n  21.628962766, 41.2636898334\n",
      "2  (1998)              Makkah          86082n  21.628962766, 41.2636898334\n",
      "3  (2004)              Makkah          86636n  21.628962766, 41.2636898334\n",
      "4  (2005)              Makkah          65099n  21.628962766, 41.2636898334\n",
      "5  (2008)              Makkah          77013n  21.628962766, 41.2636898334\n",
      "6  (2014)             Madinah          31447n  24.927534539, 39.4918237173\n",
      "7  (2013)             Madinah          28513n  24.927534539, 39.4918237173\n",
      "8  (2012)             Madinah          14459n  24.927534539, 39.4918237173\n",
      "9  (1994)             Madinah           3767n  24.927534539, 39.4918237173\n"
     ]
    }
   ],
   "source": [
    "#Code\n",
    "print(traffic_accidents_df.head(10))\n",
    "print(driving_licenses_df.head(10))"
   ]
  },
  {
   "cell_type": "markdown",
   "metadata": {
    "colab_type": "text",
    "id": "LSShTZTP2hcS"
   },
   "source": [
    "#### 3. Briefly describe the data\n",
    "\n",
    "Take your time looking through the data and briefly describe the data in the markdown cell below. Note things about what the columns might mean, and the general information that is conveyed in the dataframe."
   ]
  },
  {
   "cell_type": "markdown",
   "metadata": {
    "colab_type": "text",
    "id": "jN7zrnL-2hcT"
   },
   "source": [
    "Answer: In driving licences there are 4 main columns and in traffic one there are 5 main columns. Year column has paranthesis, some of the values are also missing. Licenses should be a real number there is character \"n\" after every number."
   ]
  },
  {
   "cell_type": "markdown",
   "metadata": {
    "colab_type": "text",
    "id": "LK3sCr4Y2hcU"
   },
   "source": [
    "#### 4a. How complete is the data?\n",
    "\n",
    "Investigate missing values etc."
   ]
  },
  {
   "cell_type": "code",
   "execution_count": 4,
   "metadata": {
    "colab": {
     "base_uri": "https://localhost:8080/",
     "height": 605
    },
    "colab_type": "code",
    "id": "cvSrHDSs2hcU",
    "outputId": "4503ebf2-a075-463e-e895-ce7eb3ac12b9"
   },
   "outputs": [
    {
     "name": "stdout",
     "output_type": "stream",
     "text": [
      "-----Missing data from traffic dataframe--------\n",
      "      Year Region                    Indicator    Value geo_point_2d\n",
      "8   (2017)  Total     No. of Casualties - Dead    7489n          NaN\n",
      "29  (2016)  Total             No. of Accidents  533380n          NaN\n",
      "30  (2016)  Total  No. of Casualties - Injured   38120n          NaN\n",
      "68  (2017)  Total             No. of Accidents  460488n          NaN\n",
      "69  (2017)  Total  No. of Casualties - Injured   33199n          NaN\n",
      "77  (2016)  Total     No. of Casualties - Dead    9031n          NaN\n",
      "-----Missing data from driving license dataframe--------\n",
      "       Year Administritive Area Driving Liceses geo_point_2d\n",
      "58   (2015)               Total         435439n          NaN\n",
      "59   (2017)               Total         928165n          NaN\n",
      "60   (1993)               Total         294893n          NaN\n",
      "61   (1994)               Total         303520n          NaN\n",
      "62   (2003)               Total         254858n          NaN\n",
      "63   (2006)               Total         267508n          NaN\n",
      "142  (2014)               Total         625414n          NaN\n",
      "143  (2010)               Total         386510n          NaN\n",
      "144  (2012)               Total         411204n          NaN\n",
      "145  (1999)               Total         332210n          NaN\n",
      "146  (2002)               Total         282038n          NaN\n",
      "147  (2001)               Total         264725n          NaN\n",
      "148  (2004)               Total         268738n          NaN\n",
      "149  (2005)               Total         251203n          NaN\n",
      "150  (2009)               Total         376275n          NaN\n",
      "162  (2011)               Total         400558n          NaN\n",
      "163  (2000)               Total         273238n          NaN\n",
      "164  (2007)               Total         331356n          NaN\n",
      "165  (2008)               Total         330158n          NaN\n",
      "239  (2013)               Total         565314n          NaN\n",
      "240  (1995)               Total         251878n          NaN\n",
      "314  (2016)               Total         697017n          NaN\n",
      "315  (1997)               Total         289296n          NaN\n",
      "316  (1996)               Total         237623n          NaN\n",
      "317  (1998)               Total         338350n          NaN\n"
     ]
    }
   ],
   "source": [
    "#Code\n",
    "# lets see how many missing values are there in both dataframes\n",
    "missing_values_traffic = traffic_accidents_df[traffic_accidents_df.isna().any(axis=1)]\n",
    "print(\"-----Missing data from traffic dataframe--------\")\n",
    "print(missing_values_traffic)\n",
    "\n",
    "missing_values_driving = driving_licenses_df[driving_licenses_df.isna().any(axis=1)]\n",
    "print(\"-----Missing data from driving license dataframe--------\")\n",
    "print(missing_values_driving)"
   ]
  },
  {
   "cell_type": "markdown",
   "metadata": {
    "colab_type": "text",
    "id": "zEsc-dPD2hcW"
   },
   "source": [
    "#### 4b. Are there any obvious issues with the observations?\n",
    "\n",
    "**What is the minimum *possible* value for each dataset? What is the maximum *possible* value?**"
   ]
  },
  {
   "cell_type": "code",
   "execution_count": 5,
   "metadata": {
    "colab": {
     "base_uri": "https://localhost:8080/",
     "height": 353
    },
    "colab_type": "code",
    "id": "A2AbHo6O2hcX",
    "outputId": "d1c5344b-5d08-40c9-ae15-1819c7b9eb22"
   },
   "outputs": [
    {
     "name": "stdout",
     "output_type": "stream",
     "text": [
      "-----Min & max value in driving dataset-------\n",
      "Year                   (2016)\n",
      "Region               Al-Baaha\n",
      "Indicator    No. of Accidents\n",
      "Value                   1007n\n",
      "dtype: object\n",
      "Year                              (2017)\n",
      "Region                             Total\n",
      "Indicator    No. of Casualties - Injured\n",
      "Value                             99925n\n",
      "dtype: object\n",
      "-----Min & max value in traffic dataset-------\n",
      "Year                    (1993)\n",
      "Administritive Area    Al-Baha\n",
      "Driving Liceses        100291n\n",
      "dtype: object\n",
      "Year                   (2017)\n",
      "Administritive Area     Total\n",
      "Driving Liceses         9983n\n",
      "dtype: object\n"
     ]
    }
   ],
   "source": [
    "#Code\n",
    "# to get minimum and maximum possible values in datasets\n",
    "print(\"-----Min & max value in driving dataset-------\")\n",
    "print(traffic_accidents_df.min())\n",
    "print(traffic_accidents_df.max())\n",
    "print(\"-----Min & max value in traffic dataset-------\")\n",
    "print(driving_licenses_df.min())\n",
    "print(driving_licenses_df.max())\n",
    "\n",
    "#  since this datatypes are strings its hard to calculate minimum and maximum , we need to convert it in proper datatypes"
   ]
  },
  {
   "cell_type": "markdown",
   "metadata": {
    "colab_type": "text",
    "id": "NdlVykiD2hca"
   },
   "source": [
    "#### 5. What are your data types? \n",
    "Display the data types of each feature. "
   ]
  },
  {
   "cell_type": "code",
   "execution_count": 6,
   "metadata": {
    "colab": {
     "base_uri": "https://localhost:8080/",
     "height": 235
    },
    "colab_type": "code",
    "id": "rX8_3b-C2hca",
    "outputId": "27fa0b01-432e-4445-dab3-043b4accd30d",
    "scrolled": true
   },
   "outputs": [
    {
     "name": "stdout",
     "output_type": "stream",
     "text": [
      "----Datatypes for traffic accidents dataframe----------\n",
      "Year            object\n",
      "Region          object\n",
      "Indicator       object\n",
      "Value           object\n",
      "geo_point_2d    object\n",
      "dtype: object\n",
      "----Datatypes for driving license dataframe----------\n",
      "Year                   object\n",
      "Administritive Area    object\n",
      "Driving Liceses        object\n",
      "geo_point_2d           object\n",
      "dtype: object\n"
     ]
    }
   ],
   "source": [
    "#code\n",
    "print(\"----Datatypes for traffic accidents dataframe----------\")\n",
    "print(traffic_accidents_df.dtypes)\n",
    "\n",
    "print(\"----Datatypes for driving license dataframe----------\")\n",
    "print(driving_licenses_df.dtypes)\n"
   ]
  },
  {
   "cell_type": "markdown",
   "metadata": {
    "colab_type": "text",
    "id": "aJXUICCB2hcd"
   },
   "source": [
    "What did you learn?\n",
    "- Do any of them seem odd?  \n",
    "- Which ones are not as they should be?  "
   ]
  },
  {
   "cell_type": "markdown",
   "metadata": {
    "colab_type": "text",
    "id": "KYu50Fu92hce"
   },
   "source": [
    "Answer: Yes. Errors are as following-\n",
    "1. Year should be in int64\n",
    "2. Driving Licences should be in int64\n",
    "3. Value should be in int64\n",
    "4. geo_point_2d should be seperated into two new columns x and y"
   ]
  },
  {
   "cell_type": "markdown",
   "metadata": {
    "colab_type": "text",
    "id": "3yn0iUkx2hcf"
   },
   "source": [
    "#### 6. Fix incorrect data types\n",
    "Based on what you discovered above, use appropriate methods to re-type incorrectly typed data.\n",
    "- Define a function that will allow you to convert numerical columns to an appropriate numeric type. Use `map` or `apply` to change these columns in each dataframe."
   ]
  },
  {
   "cell_type": "code",
   "execution_count": 0,
   "metadata": {
    "colab": {},
    "colab_type": "code",
    "id": "YSNdBQca2hcf"
   },
   "outputs": [],
   "source": [
    "#code\n",
    "\n",
    "def make_numeric_year(data):\n",
    "  return int(data[1:-1])\n",
    "\n",
    "def make_numeric_driving_licenses(data):\n",
    "  return int(data[:-1])\n",
    "\n",
    "def make_numeric_value(data):\n",
    "  return int(data[:-1])\n",
    "\n",
    "# fix for year\n",
    "if driving_licenses_df[\"Year\"].dtype != np.int64:\n",
    "  driving_licenses_df[\"Year\"] = driving_licenses_df[\"Year\"].apply(make_numeric_year)\n",
    "  traffic_accidents_df[\"Year\"] = traffic_accidents_df[\"Year\"].apply(make_numeric_year)\n",
    "\n",
    "# fix driving licenses to integer\n",
    "if driving_licenses_df[\"Driving Liceses\"].dtype != np.int64:\n",
    "  driving_licenses_df[\"Driving Liceses\"] = driving_licenses_df[\"Driving Liceses\"].apply(make_numeric_driving_licenses)\n",
    "\n",
    "# fix value in traffic accidents df to int\n",
    "if traffic_accidents_df[\"Value\"].dtype != np.int64:\n",
    "  traffic_accidents_df[\"Value\"] = traffic_accidents_df[\"Value\"].apply(make_numeric_value)"
   ]
  },
  {
   "cell_type": "markdown",
   "metadata": {
    "colab_type": "text",
    "id": "BT9gCQiU2hci"
   },
   "source": [
    "- Make new columns `x` and `y` using `geo_point_2d`"
   ]
  },
  {
   "cell_type": "code",
   "execution_count": 0,
   "metadata": {
    "colab": {},
    "colab_type": "code",
    "id": "nRf0Niaz2hci"
   },
   "outputs": [],
   "source": [
    "#code\n",
    "def make_float(data):\n",
    "  return float(data)\n",
    "\n",
    "# driving licenses\n",
    "if \"x\" not in driving_licenses_df.columns:\n",
    "  xy = pd.concat([driving_licenses_df[\"geo_point_2d\"], driving_licenses_df[\"geo_point_2d\"].str.split(', ', expand=True)], axis=1)\n",
    "  driving_licenses_df[\"x\"] = xy[0].apply(make_float)\n",
    "  driving_licenses_df[\"y\"] = xy[1].apply(make_float)\n",
    "  \n",
    "  \n",
    "# traffic accidents\n",
    "if \"x\" not in traffic_accidents_df.columns:\n",
    "  xy = pd.concat([traffic_accidents_df[\"geo_point_2d\"], traffic_accidents_df[\"geo_point_2d\"].str.split(', ', expand=True)], axis=1)\n",
    "  traffic_accidents_df[\"x\"] = xy[0].apply(make_float)\n",
    "  traffic_accidents_df[\"y\"] = xy[1].apply(make_float)"
   ]
  },
  {
   "cell_type": "markdown",
   "metadata": {
    "colab_type": "text",
    "id": "_hWCMQHG2hcm"
   },
   "source": [
    "- Fix any individual values preventing other columns from being the appropriate type."
   ]
  },
  {
   "cell_type": "code",
   "execution_count": 0,
   "metadata": {
    "colab": {},
    "colab_type": "code",
    "id": "Hewes9Nc2hcn"
   },
   "outputs": [],
   "source": [
    "#code\n",
    "#  we already removed nan values to prevent this"
   ]
  },
  {
   "cell_type": "markdown",
   "metadata": {
    "colab_type": "text",
    "id": "XHZPwsSP2hcq"
   },
   "source": [
    "- Finish your data modifications by making sure the columns are now typed appropriately."
   ]
  },
  {
   "cell_type": "code",
   "execution_count": 10,
   "metadata": {
    "colab": {
     "base_uri": "https://localhost:8080/",
     "height": 454
    },
    "colab_type": "code",
    "id": "ArdC384N2hcq",
    "outputId": "fdb5e1d8-6542-4d0c-9fb5-d3f5327c7758"
   },
   "outputs": [
    {
     "name": "stdout",
     "output_type": "stream",
     "text": [
      "   Year Administritive Area  ...          x          y\n",
      "0  2012              Makkah  ...  21.628963  41.263690\n",
      "1  1994              Makkah  ...  21.628963  41.263690\n",
      "2  1998              Makkah  ...  21.628963  41.263690\n",
      "3  2004              Makkah  ...  21.628963  41.263690\n",
      "4  2005              Makkah  ...  21.628963  41.263690\n",
      "5  2008              Makkah  ...  21.628963  41.263690\n",
      "6  2014             Madinah  ...  24.927535  39.491824\n",
      "7  2013             Madinah  ...  24.927535  39.491824\n",
      "8  2012             Madinah  ...  24.927535  39.491824\n",
      "9  1994             Madinah  ...  24.927535  39.491824\n",
      "\n",
      "[10 rows x 6 columns]\n",
      "   Year            Region  ...          x          y\n",
      "0  2016            Makkah  ...  21.628963  41.263690\n",
      "1  2016    Eastern Region  ...  23.288331  50.147830\n",
      "2  2016            Tabouk  ...  27.901655  37.259858\n",
      "3  2016              Hail  ...  27.400846  41.440696\n",
      "4  2016              Hail  ...  27.400846  41.440696\n",
      "5  2016  Northern Boarder  ...  30.197075  41.817119\n",
      "6  2017             Jazan  ...  17.207231  42.652581\n",
      "7  2017           Al-Jouf  ...  29.967745  39.557037\n",
      "8  2017             Total  ...        NaN        NaN\n",
      "9  2016  Northern Boarder  ...  30.197075  41.817119\n",
      "\n",
      "[10 rows x 7 columns]\n"
     ]
    }
   ],
   "source": [
    "#code\n",
    "print(driving_licenses_df.head(10))\n",
    "print(traffic_accidents_df.head(10))"
   ]
  },
  {
   "cell_type": "markdown",
   "metadata": {
    "colab_type": "text",
    "id": "mXWzVxqN2hct"
   },
   "source": [
    "- Display the data types again to confirm they are correct."
   ]
  },
  {
   "cell_type": "code",
   "execution_count": 11,
   "metadata": {
    "colab": {
     "base_uri": "https://localhost:8080/",
     "height": 302
    },
    "colab_type": "code",
    "id": "7rQ9A73M2hcu",
    "outputId": "6c576cc5-4fb6-4eb5-863a-c45768d975e7"
   },
   "outputs": [
    {
     "name": "stdout",
     "output_type": "stream",
     "text": [
      "----Datatypes for traffic accidents dataframe----------\n",
      "Year              int64\n",
      "Region           object\n",
      "Indicator        object\n",
      "Value             int64\n",
      "geo_point_2d     object\n",
      "x               float64\n",
      "y               float64\n",
      "dtype: object\n",
      "----Datatypes for driving license dataframe----------\n",
      "Year                     int64\n",
      "Administritive Area     object\n",
      "Driving Liceses          int64\n",
      "geo_point_2d            object\n",
      "x                      float64\n",
      "y                      float64\n",
      "dtype: object\n"
     ]
    }
   ],
   "source": [
    "#code\n",
    "print(\"----Datatypes for traffic accidents dataframe----------\")\n",
    "print(traffic_accidents_df.dtypes)\n",
    "\n",
    "print(\"----Datatypes for driving license dataframe----------\")\n",
    "print(driving_licenses_df.dtypes)"
   ]
  },
  {
   "cell_type": "markdown",
   "metadata": {
    "colab_type": "text",
    "id": "--8cVYcR2hcw"
   },
   "source": [
    "#### 7. Rename columns\n",
    "Change the names of the columns to more expressive names so that you can tell the difference the Driving Licenses  columns and the & Traffic Accidents columns. Your solution should map all column names being changed at once (no repeated singular name-changes). **We will be combining these two datasets, and so you should name columns in an appropriate way**.\n",
    "\n",
    "**Guidelines**:\n",
    "- Column names should be all lowercase (you will thank yourself when you start pushing data to SQL later in the course)\n",
    "- Column names should not contain spaces (underscores will suffice--this allows for using the `df.column_name` method to access columns in addition to `df['column_name']`.\n",
    "- Column names should be unique and informative (the only feature that we actually share between dataframes is the state).\n",
    "- Please also fix any typos you see in the column names."
   ]
  },
  {
   "cell_type": "code",
   "execution_count": 0,
   "metadata": {
    "colab": {},
    "colab_type": "code",
    "id": "bhkTkZLQ2hcw"
   },
   "outputs": [],
   "source": [
    "#code\n",
    "traffic_accidents_df.columns = [\"years\",\"region\",\"traffic_indicator\",\"traffic_value\",\"geo_point_2d\",\"traffic_x\",\"traffic_y\"]\n",
    "\n",
    "driving_licenses_df.columns = [\"years\", \"region\", \"driving_licenses\", \"geo_point_2d\", \"driving_x\", \"driving_y\"]"
   ]
  },
  {
   "cell_type": "markdown",
   "metadata": {
    "colab_type": "text",
    "id": "qHzCJK1r2hcz"
   },
   "source": [
    "#### 8. Create a data dictionary\n",
    "\n",
    "Now that we've fixed our data, and given it appropriate names, let's create a [data dictionary](http://library.ucmerced.edu/node/10249). \n",
    "\n",
    "A data dictionary provides a quick overview of features/variables/columns, alongside data types and descriptions. The more descriptive you can be, the more useful this document is.\n",
    "\n",
    "Example of a Fictional Data Dictionary Entry: \n",
    "\n",
    "|Feature|Type|Dataset|Description|\n",
    "|---|---|---|---|\n",
    "|**county_pop**|*integer*|2010 census|The population of the county (units in thousands, where 2.5 represents 2500 people).| \n",
    "|**per_poverty**|*float*|2010 census|The percent of the county over the age of 18 living below the 200% of official US poverty rate (units percent to two decimal places 98.10 means 98.1%)|\n",
    "\n",
    "[Here's a quick link to a short guide for formatting markdown in Jupyter notebooks](https://jupyter-notebook.readthedocs.io/en/stable/examples/Notebook/Working%20With%20Markdown%20Cells.html).\n",
    "\n",
    "Provided is the skeleton for formatting a markdown table, with columns headers that will help you create a data dictionary to quickly summarize your data, as well as some examples. **This would be a great thing to copy and paste into your custom README for this project.**"
   ]
  },
  {
   "cell_type": "markdown",
   "metadata": {
    "colab_type": "text",
    "id": "_fFvL7J82hc0"
   },
   "source": [
    "|Feature|Type|Dataset|Description|\n",
    "|---|---|---|---|\n",
    "|years|int|Traffic_Accidents|Data for this year| \n",
    "|region|object|Traffic_Accidents|Region to which data corresponds| \n",
    "|traffic_indicator|object|Traffic_Accidents|Type of incidents for which the data is recorded for| \n",
    "|traffic_value|int|Traffic_Accidents|Number of indicator incidents| \n",
    "|geo_point_2d|object|Traffic_Accidents|String in which there is x and y of the region seperated by comma| \n",
    "|x|float|Traffic_Accidents|x-coordinate of the region| \n",
    "|y|float|Traffic_Accidents|y-coordinate of the region| \n",
    "|years|int|Driving_licenses|Data for this year| \n",
    "|region|object|Driving_licenses|Region to which data corresponds| \n",
    "|driving_licenses|int|Driving_licenses|License number| \n",
    "|geo_point_2d|object|Driving_licenses|String in which there is x and y of the region seperated by comma| \n",
    "|x|float|Driving_licenses|x-coordinate of the region| \n",
    "|y|float|Driving_licenses|y-coordinate of the region| "
   ]
  },
  {
   "cell_type": "markdown",
   "metadata": {
    "colab_type": "text",
    "id": "UsenCsYr2hc2"
   },
   "source": [
    "#### 9. Drop unnecessary rows\n",
    "\n",
    "This study concerns accident and license in regions/area. Please do the followings:\n",
    "0. Which rows are not associated with regions?\n",
    "1. Confirm the numbers of all regions add up to total.\n",
    "2. Remove the rows that are not associated with regions"
   ]
  },
  {
   "cell_type": "code",
   "execution_count": 29,
   "metadata": {
    "colab": {
     "base_uri": "https://localhost:8080/",
     "height": 84
    },
    "colab_type": "code",
    "id": "bxQcpYpi2hc3",
    "outputId": "43d77188-52cd-4e41-94b2-12aa8d15fa44"
   },
   "outputs": [
    {
     "name": "stdout",
     "output_type": "stream",
     "text": [
      "-----unique regions in traffic accidents dataset-------\n",
      "13\n",
      "-----unique area in driving license dataset-------\n",
      "13\n"
     ]
    }
   ],
   "source": [
    "#code\n",
    "\n",
    "# we have already checked for which rows have not regions in missing data section\n",
    "traffic_accidents_df = traffic_accidents_df.dropna()\n",
    "driving_licenses_df = driving_licenses_df.dropna()\n",
    "\n",
    "# printing unique regions in both the datasets\n",
    "print(\"-----unique regions in traffic accidents dataset-------\")\n",
    "print(len(traffic_accidents_df.region.unique()))\n",
    "print(\"-----unique area in driving license dataset-------\")\n",
    "print(len(driving_licenses_df.region.unique()))"
   ]
  },
  {
   "cell_type": "markdown",
   "metadata": {
    "colab_type": "text",
    "id": "T6G18m1G2hc6"
   },
   "source": [
    "#### 10a. Data formats\n",
    "Is the License data in long or wide format? How about the Accident data? And why?"
   ]
  },
  {
   "cell_type": "code",
   "execution_count": 30,
   "metadata": {
    "colab": {
     "base_uri": "https://localhost:8080/",
     "height": 84
    },
    "colab_type": "code",
    "id": "5XZR8uc42hc7",
    "outputId": "7528d98a-b312-45ed-87e7-5eecc3521a92"
   },
   "outputs": [
    {
     "name": "stdout",
     "output_type": "stream",
     "text": [
      "---shape of license data-----\n",
      "(325, 6)\n",
      "---shape of accident data----\n",
      "(78, 7)\n"
     ]
    }
   ],
   "source": [
    "#code\n",
    "print(\"---shape of license data-----\")\n",
    "print(driving_licenses_df.shape)\n",
    "print(\"---shape of accident data----\")\n",
    "print(traffic_accidents_df.shape)\n",
    "\n",
    "# its different because of removed rows"
   ]
  },
  {
   "cell_type": "markdown",
   "metadata": {
    "colab_type": "text",
    "id": "rLOctAF-2hc9"
   },
   "source": [
    "#### 10b. Changing formats\n",
    "Which format would work best for both dataframes? Transform the datasets to the same format before merging in the next task."
   ]
  },
  {
   "cell_type": "code",
   "execution_count": 0,
   "metadata": {
    "colab": {},
    "colab_type": "code",
    "id": "Z6jDdcwv2hc-"
   },
   "outputs": [],
   "source": [
    "#code\n",
    "# we'll merge using the keys - 'years', 'region', 'geo_point_2d' , 'x' , 'y'\n",
    "# Use union of keys from both frames outer\n",
    "# using outer requires no change in formats. (Nan values for empty datasets)\n"
   ]
  },
  {
   "cell_type": "markdown",
   "metadata": {
    "colab_type": "text",
    "id": "2HaTwgZj2hdA"
   },
   "source": [
    "#### 11. Merge dataframes\n",
    "\n",
    "Join the Driving Licenses & Traffic Accidents dataframes using the **region** and **year** in each dataframe as the key. Assign this to a new variable. Which join should you use to preserve the most data?"
   ]
  },
  {
   "cell_type": "code",
   "execution_count": 0,
   "metadata": {
    "colab": {},
    "colab_type": "code",
    "id": "UbFwXmc82hdB"
   },
   "outputs": [],
   "source": [
    "#code\n",
    "merged_df = pd.merge(driving_licenses_df, traffic_accidents_df, how = \"outer\", on = ['years', 'region', 'geo_point_2d'])"
   ]
  },
  {
   "cell_type": "markdown",
   "metadata": {
    "colab_type": "text",
    "id": "rt5TOrAA2hdD"
   },
   "source": [
    "#### 12. Save your cleaned, merged dataframe\n",
    "\n",
    "Use a relative path to save out your data as `combined_datasets.csv`."
   ]
  },
  {
   "cell_type": "code",
   "execution_count": 0,
   "metadata": {
    "colab": {},
    "colab_type": "code",
    "id": "j0C7eIW12hdE"
   },
   "outputs": [],
   "source": [
    "#code\n",
    "merged_df.to_csv(\"combined_datasets.csv\")"
   ]
  },
  {
   "cell_type": "markdown",
   "metadata": {
    "colab_type": "text",
    "id": "PQnfdu3O2hdG"
   },
   "source": [
    "## Exploratory Data Analysis\n",
    "\n",
    "\n",
    "### Summary Statistics\n",
    "Transpose the output of pandas `describe` method to create a quick overview of each numeric feature."
   ]
  },
  {
   "cell_type": "code",
   "execution_count": 33,
   "metadata": {
    "colab": {
     "base_uri": "https://localhost:8080/",
     "height": 284
    },
    "colab_type": "code",
    "id": "UGCZ5CJM2hdH",
    "outputId": "2a952162-a3be-4ab4-c211-9ff60bc34564"
   },
   "outputs": [
    {
     "data": {
      "text/html": [
       "<div>\n",
       "<style scoped>\n",
       "    .dataframe tbody tr th:only-of-type {\n",
       "        vertical-align: middle;\n",
       "    }\n",
       "\n",
       "    .dataframe tbody tr th {\n",
       "        vertical-align: top;\n",
       "    }\n",
       "\n",
       "    .dataframe thead th {\n",
       "        text-align: right;\n",
       "    }\n",
       "</style>\n",
       "<table border=\"1\" class=\"dataframe\">\n",
       "  <thead>\n",
       "    <tr style=\"text-align: right;\">\n",
       "      <th></th>\n",
       "      <th>years</th>\n",
       "      <th>driving_licenses</th>\n",
       "      <th>driving_x</th>\n",
       "      <th>driving_y</th>\n",
       "      <th>traffic_value</th>\n",
       "      <th>traffic_x</th>\n",
       "      <th>traffic_y</th>\n",
       "    </tr>\n",
       "  </thead>\n",
       "  <tbody>\n",
       "    <tr>\n",
       "      <th>count</th>\n",
       "      <td>385.000000</td>\n",
       "      <td>361.000000</td>\n",
       "      <td>361.000000</td>\n",
       "      <td>361.000000</td>\n",
       "      <td>78.000000</td>\n",
       "      <td>78.000000</td>\n",
       "      <td>78.000000</td>\n",
       "    </tr>\n",
       "    <tr>\n",
       "      <th>mean</th>\n",
       "      <td>2006.792208</td>\n",
       "      <td>32964.321330</td>\n",
       "      <td>23.882132</td>\n",
       "      <td>42.519823</td>\n",
       "      <td>13868.038462</td>\n",
       "      <td>23.810447</td>\n",
       "      <td>42.602789</td>\n",
       "    </tr>\n",
       "    <tr>\n",
       "      <th>std</th>\n",
       "      <td>7.841758</td>\n",
       "      <td>60260.551409</td>\n",
       "      <td>4.235040</td>\n",
       "      <td>3.224066</td>\n",
       "      <td>31716.885363</td>\n",
       "      <td>4.218654</td>\n",
       "      <td>3.270216</td>\n",
       "    </tr>\n",
       "    <tr>\n",
       "      <th>min</th>\n",
       "      <td>1993.000000</td>\n",
       "      <td>915.000000</td>\n",
       "      <td>17.207231</td>\n",
       "      <td>37.259858</td>\n",
       "      <td>112.000000</td>\n",
       "      <td>17.207231</td>\n",
       "      <td>37.259858</td>\n",
       "    </tr>\n",
       "    <tr>\n",
       "      <th>25%</th>\n",
       "      <td>2000.000000</td>\n",
       "      <td>4958.000000</td>\n",
       "      <td>20.148406</td>\n",
       "      <td>41.263690</td>\n",
       "      <td>721.000000</td>\n",
       "      <td>20.148406</td>\n",
       "      <td>41.263690</td>\n",
       "    </tr>\n",
       "    <tr>\n",
       "      <th>50%</th>\n",
       "      <td>2007.000000</td>\n",
       "      <td>10495.000000</td>\n",
       "      <td>23.288331</td>\n",
       "      <td>41.817119</td>\n",
       "      <td>1682.500000</td>\n",
       "      <td>23.288331</td>\n",
       "      <td>41.817119</td>\n",
       "    </tr>\n",
       "    <tr>\n",
       "      <th>75%</th>\n",
       "      <td>2015.000000</td>\n",
       "      <td>27772.000000</td>\n",
       "      <td>27.400846</td>\n",
       "      <td>43.343000</td>\n",
       "      <td>10584.500000</td>\n",
       "      <td>27.400846</td>\n",
       "      <td>43.343000</td>\n",
       "    </tr>\n",
       "    <tr>\n",
       "      <th>max</th>\n",
       "      <td>2017.000000</td>\n",
       "      <td>495307.000000</td>\n",
       "      <td>30.197075</td>\n",
       "      <td>50.147830</td>\n",
       "      <td>145541.000000</td>\n",
       "      <td>30.197075</td>\n",
       "      <td>50.147830</td>\n",
       "    </tr>\n",
       "  </tbody>\n",
       "</table>\n",
       "</div>"
      ],
      "text/plain": [
       "             years  driving_licenses  ...  traffic_x  traffic_y\n",
       "count   385.000000        361.000000  ...  78.000000  78.000000\n",
       "mean   2006.792208      32964.321330  ...  23.810447  42.602789\n",
       "std       7.841758      60260.551409  ...   4.218654   3.270216\n",
       "min    1993.000000        915.000000  ...  17.207231  37.259858\n",
       "25%    2000.000000       4958.000000  ...  20.148406  41.263690\n",
       "50%    2007.000000      10495.000000  ...  23.288331  41.817119\n",
       "75%    2015.000000      27772.000000  ...  27.400846  43.343000\n",
       "max    2017.000000     495307.000000  ...  30.197075  50.147830\n",
       "\n",
       "[8 rows x 7 columns]"
      ]
     },
     "execution_count": 33,
     "metadata": {
      "tags": []
     },
     "output_type": "execute_result"
    }
   ],
   "source": [
    "#Code\n",
    "merged_df.describe()"
   ]
  },
  {
   "cell_type": "markdown",
   "metadata": {
    "colab_type": "text",
    "id": "BGe67lE52hdJ"
   },
   "source": [
    "#### Manually calculate standard deviation\n",
    "\n",
    "$$\\sigma = \\sqrt{\\frac{1}{n}\\sum_{i=1}^n(x_i - \\mu)^2}$$\n",
    "\n",
    "- Write a function to calculate standard deviation using the formula above"
   ]
  },
  {
   "cell_type": "code",
   "execution_count": 0,
   "metadata": {
    "colab": {},
    "colab_type": "code",
    "id": "jC2mwSqn2hdJ"
   },
   "outputs": [],
   "source": [
    "#code\n",
    "import math\n",
    "\n",
    "def cal_std(column):\n",
    "  column = column[column.notnull()]\n",
    "  std = 0\n",
    "  for val in column:\n",
    "    std += ((val - column.mean())**2)\n",
    "  std /= column.count()\n",
    "  return math.sqrt(std)"
   ]
  },
  {
   "cell_type": "markdown",
   "metadata": {
    "colab_type": "text",
    "id": "pFcpVnfW2hdL"
   },
   "source": [
    "- Use a **dictionary comprehension** to apply your standard deviation function to each numeric column in the dataframe.  **No loops**  \n",
    "- Assign the output to variable `sd` as a dictionary where: \n",
    "    - Each column name is now a key \n",
    "    - That standard deviation of the column is the value \n",
    "     \n",
    "*Example Output :* `{'Driving_Licenses_x': 120, 'Traffic_Accidents_x': 120, ...}`"
   ]
  },
  {
   "cell_type": "code",
   "execution_count": 35,
   "metadata": {
    "colab": {
     "base_uri": "https://localhost:8080/",
     "height": 70
    },
    "colab_type": "code",
    "id": "IGF-u0sw2hdM",
    "outputId": "0137c42b-3509-48ad-9024-c09905f6d775"
   },
   "outputs": [
    {
     "name": "stdout",
     "output_type": "stream",
     "text": [
      "calculated std -  {'years': 7.8315672617301955, 'driving_licenses': 60177.03016119522, 'driving_x': 4.229170249185391, 'driving_y': 3.2195972797076826, 'traffic_x': 4.191524025811861, 'traffic_y': 3.2491853051316917, 'traffic_value': 31512.916138463017}\n",
      "numpy's std -  {'years': 7.8315672617301955, 'driving_licenses': 60177.03016119522, 'driving_x': 4.229170249185391, 'driving_y': 3.2195972797076826, 'traffic_x': 4.191524025811861, 'traffic_y': 3.2491853051316917, 'traffic_value': 31512.916138463017}\n"
     ]
    }
   ],
   "source": [
    "#Code:\n",
    "column_names = [\"years\", \"driving_licenses\", \"driving_x\", \"driving_y\", \"traffic_x\", \"traffic_y\", \"traffic_value\"]\n",
    "sd = {column:cal_std(merged_df[column]) for column in column_names}\n",
    "print(\"calculated std - \", sd)\n",
    "\n",
    "numpy_std = {column:np.std(merged_df[column]) for column in column_names}\n",
    "print(\"numpy's std - \", numpy_std)"
   ]
  },
  {
   "cell_type": "markdown",
   "metadata": {
    "colab_type": "text",
    "id": "yIuQi5O22hdV"
   },
   "source": [
    "Do your manually calculated standard deviations match up with the output from pandas `describe`? What about numpy's `std` method?"
   ]
  },
  {
   "cell_type": "markdown",
   "metadata": {
    "colab_type": "text",
    "id": "c5eaCzaM2hdW"
   },
   "source": [
    "Answer: Its slightly different from pandas describe but it is exact same from numpy's std method."
   ]
  },
  {
   "cell_type": "markdown",
   "metadata": {
    "colab_type": "text",
    "id": "hajnjmmN2hdY"
   },
   "source": [
    "#### Investigate trends in the data\n",
    "Using sorting and/or masking (along with the `.head` method to not print our entire dataframe), consider the following questions:\n",
    "\n",
    "- Which regions have the highest and lowest Driving Licenses based on years (1993 - 2017)\n",
    "- Which regions have the highest and lowest mean Traffic Accidents numbers for years (2016 - 2017)\n",
    "- What are the regions that have more Driving Licenses issued in each year than the year average?\n",
    "- What are the regions that have more Traffic Accidents happened in each year than the year average?\n",
    "\n",
    "Based on what you've just observed, have you identified any regions that you're especially interested in? **Make a note of these and state *why* you think they're interesting**.\n",
    "\n",
    "**You should comment on your findings at each step in a markdown cell below your code block**. Make sure you include at least one example of sorting your dataframe by a column, and one example of using boolean filtering (i.e., masking) to select a subset of the dataframe."
   ]
  },
  {
   "cell_type": "code",
   "execution_count": 36,
   "metadata": {
    "colab": {
     "base_uri": "https://localhost:8080/",
     "height": 655
    },
    "colab_type": "code",
    "id": "44_4gmlp2hdZ",
    "outputId": "dfa6f8f3-4438-471c-b4f7-1cf32ea1d1df"
   },
   "outputs": [
    {
     "name": "stdout",
     "output_type": "stream",
     "text": [
      "Regions having highest and lowest driving licenses between years (1993-2017)\n",
      "     years  driving_licenses\n",
      "207   2015             915.0\n",
      "175   2007             997.0\n",
      "283   1995            1318.0\n",
      "162   1996            1383.0\n",
      "284   1994            1457.0\n",
      "     years  driving_licenses\n",
      "301   2017          495307.0\n",
      "300   2017          495307.0\n",
      "299   2017          495307.0\n",
      "304   2016          242851.0\n",
      "303   2016          242851.0\n",
      "Regions having highest and lowest mean Traffic Accidents between years (2016-2017)\n",
      "               region  traffic_value\n",
      "35   Northern Boarder          112.0\n",
      "382          Al-Baaha          134.0\n",
      "128            Najran          173.0\n",
      "365          Al-Baaha          185.0\n",
      "113  Northern Boarder          193.0\n",
      "             region  traffic_value\n",
      "154          Makkah       145541.0\n",
      "303          Riyadh       141736.0\n",
      "156          Makkah       134838.0\n",
      "362  Eastern Region       101619.0\n",
      "299          Riyadh        99925.0\n",
      "{'Riyadh', 'Al-Qaseem', 'Makkah', 'Eastern', 'Assir'}\n",
      "{'Jazan', 'Madinah', 'Riyadh', 'Asir', 'Makkah', 'Eastern Region', 'Qassim', 'Tabouk'}\n"
     ]
    },
    {
     "name": "stderr",
     "output_type": "stream",
     "text": [
      "/usr/local/lib/python3.6/dist-packages/ipykernel_launcher.py:21: SettingWithCopyWarning: \n",
      "A value is trying to be set on a copy of a slice from a DataFrame.\n",
      "Try using .loc[row_indexer,col_indexer] = value instead\n",
      "\n",
      "See the caveats in the documentation: http://pandas.pydata.org/pandas-docs/stable/indexing.html#indexing-view-versus-copy\n",
      "/usr/local/lib/python3.6/dist-packages/ipykernel_launcher.py:31: SettingWithCopyWarning: \n",
      "A value is trying to be set on a copy of a slice from a DataFrame.\n",
      "Try using .loc[row_indexer,col_indexer] = value instead\n",
      "\n",
      "See the caveats in the documentation: http://pandas.pydata.org/pandas-docs/stable/indexing.html#indexing-view-versus-copy\n"
     ]
    }
   ],
   "source": [
    "#code\n",
    "# Regions having highest and lowest driving licenses between years (1993-2017)\n",
    "sorted_df1 = merged_df.sort_values(by=\"driving_licenses\")\n",
    "sorted_df1 = sorted_df1[pd.notnull(sorted_df1['driving_licenses'])]\n",
    "sorted_df1 = sorted_df1[(1993 <= sorted_df1['years']) & (sorted_df1['years'] <= 2017)]\n",
    "print(\"Regions having highest and lowest driving licenses between years (1993-2017)\")\n",
    "print(sorted_df1[['years', 'driving_licenses']].head(5))\n",
    "print(sorted_df1[['years', 'driving_licenses']].iloc[::-1].head(5))\n",
    "\n",
    "# Regions having highest and lowest mean Traffic Accidents between years (2016-2017)\n",
    "sorted_df2 = merged_df.sort_values(by=\"traffic_value\")\n",
    "sorted_df2 = sorted_df2[pd.notnull(sorted_df2['traffic_value'])]\n",
    "sorted_df2 = sorted_df2[(2016 <= sorted_df2['years']) & (sorted_df2['years'] <= 2017)]\n",
    "print(\"Regions having highest and lowest mean Traffic Accidents between years (2016-2017)\")\n",
    "print(sorted_df2[['region', 'traffic_value']].head(5))\n",
    "print(sorted_df2[['region', 'traffic_value']].iloc[::-1].head(5))\n",
    "\n",
    "# Regions having more driving licenses issued than year average\n",
    "mean_driving_licenses_df = merged_df.groupby(['years'])['driving_licenses'].mean()\n",
    "sorted_df3 = merged_df[pd.notnull(merged_df['driving_licenses'])]\n",
    "def get_mean_driving(year):\n",
    "  return mean_driving_licenses_df[year]\n",
    "sorted_df3['mean'] = sorted_df3['years'].apply(get_mean_driving)\n",
    "regions_driving = np.where(sorted_df3['driving_licenses'] > sorted_df3['mean'], sorted_df3['region'], np.nan)\n",
    "regions_driving = [x for x in regions_driving if str(x) != 'nan']\n",
    "print(set(regions_driving))\n",
    "\n",
    "# Regions having more Traffic Accidents than year average\n",
    "mean_traffic_accidents_df = merged_df.groupby(['years'])['traffic_value'].mean()\n",
    "sorted_df4 = merged_df[pd.notnull(merged_df['traffic_value'])]\n",
    "def get_mean_accidents(year):\n",
    "  return mean_traffic_accidents_df[year]\n",
    "sorted_df4['mean'] = sorted_df4['years'].apply(get_mean_accidents)\n",
    "regions_traffic = np.where(sorted_df4['traffic_value'] > sorted_df4['mean'], sorted_df4['region'], np.nan)\n",
    "regions_traffic = [x for x in regions_traffic if str(x) != 'nan']\n",
    "print(set(regions_traffic))"
   ]
  },
  {
   "cell_type": "markdown",
   "metadata": {
    "colab_type": "text",
    "id": "K5Mp3_pL2hde"
   },
   "source": [
    "## Visualize the data\n",
    "\n",
    "There's not a magic bullet recommendation for the right number of plots to understand a given dataset, but visualizing your data is *always* a good idea. Not only does it allow you to quickly convey your findings (even if you have a non-technical audience), it will often reveal trends in your data that escaped you when you were looking only at numbers.\n",
    "\n",
    "Some recommendations on plotting:\n",
    "- Plots have titles\n",
    "- Plots have axis labels\n",
    "- Plots have appropriate tick labels\n",
    "- All text is legible in a plot\n",
    "- Plots demonstrate meaningful and valid relationships\n",
    "- Plots are interpreted to aid understanding\n",
    "\n",
    "There is such a thing as too many plots, and there are a *lot* of bad plots. You might make some! (But hopefully not with the guided prompts below)."
   ]
  },
  {
   "cell_type": "markdown",
   "metadata": {
    "colab_type": "text",
    "id": "8GJD_AmP2hdf"
   },
   "source": [
    "#### Use Seaborn's heatmap with pandas `.corr()` to visualize correlations between all numeric features\n",
    "\n",
    "Heatmaps are generally not appropriate for presentations, and should often be excluded from reports as they can be visually overwhelming. **However**, they can be extremely useful in identify relationships of potential interest (as well as identifying potential collinearity before modeling).\n",
    "\n",
    "*example*:\n",
    "```python\n",
    "sns.heatmap(df.corr())\n",
    "```\n",
    "\n",
    "Please take time to format your output, adding a title. Look through some of the additional arguments and options. (Axis labels aren't really necessary, as long as the title is informative)."
   ]
  },
  {
   "cell_type": "code",
   "execution_count": 37,
   "metadata": {
    "colab": {
     "base_uri": "https://localhost:8080/",
     "height": 356
    },
    "colab_type": "code",
    "id": "LdZJMOXJ2hdf",
    "outputId": "01247bbb-7e3b-4396-b1d9-3e09f7429ac6"
   },
   "outputs": [
    {
     "data": {
      "text/plain": [
       "<matplotlib.axes._subplots.AxesSubplot at 0x7f74bdeab9b0>"
      ]
     },
     "execution_count": 37,
     "metadata": {
      "tags": []
     },
     "output_type": "execute_result"
    },
    {
     "data": {
      "image/png": "[encoded data removed]",
      "text/plain": [
       "<Figure size 432x288 with 2 Axes>"
      ]
     },
     "metadata": {
      "tags": []
     },
     "output_type": "display_data"
    }
   ],
   "source": [
    "sns.heatmap(merged_df.corr())"
   ]
  },
  {
   "cell_type": "markdown",
   "metadata": {
    "colab_type": "text",
    "id": "xOV0ChFh2hdi"
   },
   "source": [
    "#### Define a custom function to subplot histograms\n",
    "\n",
    "We should write a function that will take the names of 2+ columns and subplot histograms. While you can use pandas plotting or Seaborn here, matplotlib gives you greater control over all aspects of your plots.\n",
    "\n",
    "[Helpful Link for Plotting Multiple Figures](https://matplotlib.org/users/pyplot_tutorial.html#working-with-multiple-figures-and-axes)\n",
    "\n",
    "Here's some starter code:"
   ]
  },
  {
   "cell_type": "code",
   "execution_count": 0,
   "metadata": {
    "colab": {},
    "colab_type": "code",
    "id": "cqScvylc2hdi"
   },
   "outputs": [],
   "source": [
    "def subplot_histograms(dataframe, list_of_columns, list_of_titles, list_of_xlabels):\n",
    "    nrows = int(np.ceil(len(list_of_columns)/2)) # Makes sure you have enough rows\n",
    "    fig, ax = plt.subplots(nrows=nrows, ncols=2) # You'll want to specify your figsize\n",
    "    ax = ax.ravel() # Ravel turns a matrix into a vector, which is easier to iterate\n",
    "    for i, column in enumerate(list_of_columns): # Gives us an index value to get into all our lists\n",
    "        ax[i].hist(dataframe[column]) # feel free to add more settings\n",
    "        # Set titles, labels, etc here for each subplot\n",
    "        ax[i].set_title(list_of_titles[i])\n",
    "        ax[i].set_xlabel(list_of_xlabels[i])\n",
    "     "
   ]
  },
  {
   "cell_type": "markdown",
   "metadata": {
    "colab_type": "text",
    "id": "l687Vyhg2hdl"
   },
   "source": [
    "#### Plot and interpret histograms \n",
    "For each of the following:\n",
    "- Driving Licenses number\n",
    "- Traffic Accidents number\n",
    "\n",
    "Please plot two additional histograms that will help with your understanding of the data"
   ]
  },
  {
   "cell_type": "code",
   "execution_count": 39,
   "metadata": {
    "colab": {
     "base_uri": "https://localhost:8080/",
     "height": 640
    },
    "colab_type": "code",
    "id": "lrxkmTbX2hdn",
    "outputId": "8efc3326-a04d-4f2e-d7a6-06c7f5c67eb5"
   },
   "outputs": [
    {
     "name": "stderr",
     "output_type": "stream",
     "text": [
      "/usr/local/lib/python3.6/dist-packages/numpy/lib/histograms.py:824: RuntimeWarning: invalid value encountered in greater_equal\n",
      "  keep = (tmp_a >= first_edge)\n",
      "/usr/local/lib/python3.6/dist-packages/numpy/lib/histograms.py:825: RuntimeWarning: invalid value encountered in less_equal\n",
      "  keep &= (tmp_a <= last_edge)\n"
     ]
    },
    {
     "data": {
      "image/png": "[encoded data removed]",
      "text/plain": [
       "<Figure size 432x288 with 2 Axes>"
      ]
     },
     "metadata": {
      "tags": []
     },
     "output_type": "display_data"
    },
    {
     "data": {
      "image/png": "[encoded data removed]",
      "text/plain": [
       "<Figure size 432x288 with 2 Axes>"
      ]
     },
     "metadata": {
      "tags": []
     },
     "output_type": "display_data"
    }
   ],
   "source": [
    "# Code\n",
    "subplot_histograms(merged_df,[\"driving_licenses\",\"traffic_value\"],['Histogram for driving licenses','Histogram for traffic accidents'],[\"No. of driving licenses\",\"No. of traffic accidents\"])\n",
    "\n",
    "subplot_histograms(merged_df,[\"driving_x\",\"driving_y\"],['Histogram for x of region','Histogram for y of region'],[\"x coordinate\",\"y coordinate\"])"
   ]
  },
  {
   "cell_type": "markdown",
   "metadata": {
    "colab_type": "text",
    "id": "AAsbmkG42hdp"
   },
   "source": [
    "#### Plot and interpret scatter plots\n",
    "\n",
    "For each of the following:\n",
    "- Driving Licenses vs. Traffic Accidents for 2017\n",
    "- Driving Licenses vs. Traffic Accidents for 2016\n",
    "- Driving Licenses for 2016 vs 2017\n",
    "- Traffic Accidents for 2016 vs 2017\n",
    "\n",
    "Plot the two variables against each other using matplotlib or Seaborn\n",
    "\n",
    "Your plots should show:\n",
    "- Two clearly labeled axes\n",
    "- A proper title\n",
    "- Using colors and symbols that are clear and unmistakable\n",
    "\n",
    "**Feel free to write a custom function, and subplot if you'd like.** Functions save both time and space.\n"
   ]
  },
  {
   "cell_type": "code",
   "execution_count": 40,
   "metadata": {
    "colab": {
     "base_uri": "https://localhost:8080/",
     "height": 1000
    },
    "colab_type": "code",
    "id": "KA6848aM2hdp",
    "outputId": "bde42aab-2df2-44d5-c792-70acb9e97ed0"
   },
   "outputs": [
    {
     "data": {
      "image/png": "[encoded data removed]",
      "text/plain": [
       "<Figure size 432x288 with 1 Axes>"
      ]
     },
     "metadata": {
      "tags": []
     },
     "output_type": "display_data"
    },
    {
     "data": {
      "image/png": "[encoded data removed]",
      "text/plain": [
       "<Figure size 432x288 with 1 Axes>"
      ]
     },
     "metadata": {
      "tags": []
     },
     "output_type": "display_data"
    },
    {
     "data": {
      "image/png": "[encoded data removed]",
      "text/plain": [
       "<Figure size 432x288 with 1 Axes>"
      ]
     },
     "metadata": {
      "tags": []
     },
     "output_type": "display_data"
    },
    {
     "data": {
      "image/png": "[encoded data removed]",
      "text/plain": [
       "<Figure size 432x288 with 1 Axes>"
      ]
     },
     "metadata": {
      "tags": []
     },
     "output_type": "display_data"
    }
   ],
   "source": [
    "# Code\n",
    "def plot_scatter(df, list_of_columns, year, title, labels):\n",
    "#   list of columns should be x, y\n",
    "  if len(list_of_columns) == 2:\n",
    "    df = df[df.years == year]\n",
    "    fig, ax = plt.subplots(nrows=1, ncols=1)\n",
    "    ax.scatter(df[list_of_columns[0]], df[list_of_columns[1]])\n",
    "    ax.set_title(title)\n",
    "    ax.set_xlabel(labels[0])\n",
    "    ax.set_ylabel(labels[1])\n",
    "\n",
    "def plot_different_year(df, column, list_of_years, title, labels):\n",
    "  if len(list_of_years) == 2:\n",
    "    fig, ax = plt.subplots(nrows=1, ncols=1)\n",
    "    ax.scatter(df[df[\"years\"] == list_of_years[0]][column], df[df[\"years\"] == list_of_years[1]][column])\n",
    "    ax.set_title(title)\n",
    "    ax.set_xlabel(labels[0])\n",
    "    ax.set_ylabel(labels[1])\n",
    "    \n",
    "plot_scatter(merged_df, [\"traffic_value\", \"driving_licenses\"], 2017, \"Driving Licenses vs. Traffic Accidents for 2017\", [\"Traffic Accidents\", \"Driving Licenses\"])\n",
    "plot_scatter(merged_df, [\"traffic_value\", \"driving_licenses\"], 2016, \"Driving Licenses vs. Traffic Accidents for 2016\", [\"Traffic Accidents\", \"Driving Licenses\"])\n",
    "plot_different_year(merged_df, \"driving_licenses\", [2017, 2016], \"Driving Licenses for 2016 vs 2017\", [\"Driving Licenses for 2017\", \"Driving Licenses for 2016\"])\n",
    "plot_different_year(merged_df, \"traffic_value\", [2017, 2016], \"Traffic Accidents for 2016 vs 2017\", [\"Traffic Accidents for 2017\", \"Traffic Accidents for 2016\"])"
   ]
  },
  {
   "cell_type": "markdown",
   "metadata": {
    "colab_type": "text",
    "id": "fO8wtsW72hdr"
   },
   "source": [
    "#### Plot and interpret boxplots\n",
    "\n",
    "For each numeric variable in the dataframe create a boxplot using Seaborn. Boxplots demonstrate central tendency and spread in variables. In a certain sense, these are somewhat redundant with histograms, but you may be better able to identify clear outliers or differences in IQR, etc.\n",
    "\n",
    "Multiple values can be plotted to a single boxplot as long as they are of the same relative scale (meaning they have similar min/max values).\n",
    "\n",
    "Each boxplot should:\n",
    "- Only include variables of a similar scale\n",
    "- Have clear labels for each variable\n",
    "- Have appropriate titles and labels"
   ]
  },
  {
   "cell_type": "code",
   "execution_count": 41,
   "metadata": {
    "colab": {
     "base_uri": "https://localhost:8080/",
     "height": 1000
    },
    "colab_type": "code",
    "id": "Qap053q42hds",
    "outputId": "7d01cd86-2dd9-400b-bfbf-9a9e384585e5"
   },
   "outputs": [
    {
     "data": {
      "image/png": "[encoded data removed]",
      "text/plain": [
       "<Figure size 432x288 with 1 Axes>"
      ]
     },
     "metadata": {
      "tags": []
     },
     "output_type": "display_data"
    },
    {
     "data": {
      "image/png": "[encoded data removed]",
      "text/plain": [
       "<Figure size 432x288 with 1 Axes>"
      ]
     },
     "metadata": {
      "tags": []
     },
     "output_type": "display_data"
    },
    {
     "data": {
      "image/png": "[encoded data removed]",
      "text/plain": [
       "<Figure size 432x288 with 1 Axes>"
      ]
     },
     "metadata": {
      "tags": []
     },
     "output_type": "display_data"
    },
    {
     "data": {
      "image/png": "[encoded data removed]",
      "text/plain": [
       "<Figure size 432x288 with 1 Axes>"
      ]
     },
     "metadata": {
      "tags": []
     },
     "output_type": "display_data"
    },
    {
     "data": {
      "image/png": "[encoded data removed]",
      "text/plain": [
       "<Figure size 432x288 with 1 Axes>"
      ]
     },
     "metadata": {
      "tags": []
     },
     "output_type": "display_data"
    }
   ],
   "source": [
    "# Code\n",
    "def plot_boxplot(dataframe, column, title):\n",
    "  fig, ax = plt.subplots(nrows=1, ncols=1)\n",
    "  sns.boxplot(dataframe[column], orient='vertical', ax=ax).set_title(title)\n",
    "  \n",
    "plot_boxplot(merged_df, 'years', 'Variable - years')\n",
    "plot_boxplot(merged_df, 'driving_x', 'Variable - driving_x')\n",
    "plot_boxplot(merged_df, 'driving_y', 'Variable - driving_y')\n",
    "plot_boxplot(merged_df, 'traffic_x', 'Variable - traffic_x')\n",
    "plot_boxplot(merged_df, 'traffic_y', 'Variable - traffic_y')\n",
    "\n",
    "# traffic accidents and driving licenses have not similar scale but still you can plot them\n",
    "# plot_boxplot(merged_df, 'driving_licenses', 'Variable - driving_licenses')\n",
    "# plot_boxplot(merged_df, 'traffic_value', 'Variable - traffic_value')"
   ]
  },
  {
   "cell_type": "markdown",
   "metadata": {
    "colab_type": "text",
    "id": "NOEgUvdE2hdu"
   },
   "source": [
    "#### Feel free to do additional plots below\n",
    "*(do research and choose your own chart types & variables)*\n",
    "\n",
    "Are there any additional trends or relationships you haven't explored? Was there something interesting you saw that you'd like to dive further into? It's likely that there are a few more plots you might want to generate to support your narrative and recommendations that you are building toward. **As always, make sure you're interpreting your plots as you go**."
   ]
  },
  {
   "cell_type": "code",
   "execution_count": 51,
   "metadata": {
    "colab": {
     "base_uri": "https://localhost:8080/",
     "height": 649
    },
    "colab_type": "code",
    "id": "NnrdAug82hdu",
    "outputId": "924e666e-d153-4fdb-8334-898bc5daba97"
   },
   "outputs": [
    {
     "data": {
      "text/plain": [
       "<Figure size 2160x216 with 0 Axes>"
      ]
     },
     "metadata": {
      "tags": []
     },
     "output_type": "display_data"
    },
    {
     "data": {
      "image/png": "[encoded data removed]",
      "text/plain": [
       "<Figure size 432x288 with 1 Axes>"
      ]
     },
     "metadata": {
      "tags": []
     },
     "output_type": "display_data"
    },
    {
     "data": {
      "text/plain": [
       "<Figure size 2160x216 with 0 Axes>"
      ]
     },
     "metadata": {
      "tags": []
     },
     "output_type": "display_data"
    },
    {
     "data": {
      "image/png": "[encoded data removed]",
      "text/plain": [
       "<Figure size 432x288 with 1 Axes>"
      ]
     },
     "metadata": {
      "tags": []
     },
     "output_type": "display_data"
    }
   ],
   "source": [
    "# Plotting traffic accidents v/s regions in 2017 to check which region has more accidents\n",
    "def plot_traffic_regions(df, list_of_columns, year, title, labels):\n",
    "  plt.figure(figsize=(30,3))\n",
    "#   list of columns should be x, y\n",
    "  if len(list_of_columns) == 2:\n",
    "    df = df[np.isfinite(df[list_of_columns[0]])]\n",
    "    df = df[df.years == year]\n",
    "    fig, ax = plt.subplots(nrows=1, ncols=1)\n",
    "    ax.bar(df[list_of_columns[1]], df[list_of_columns[0]])\n",
    "    ax.set_title(title)\n",
    "    ax.set_xlabel(labels[0])\n",
    "    ax.set_ylabel(labels[1])\n",
    "    fig.autofmt_xdate()\n",
    "\n",
    "plot_traffic_regions(merged_df, ['traffic_value', 'region'], 2017, \"traffic accidents v/s regions\", ['Regions', \"traffic accidents\"])\n",
    "plot_traffic_regions(merged_df, ['driving_licenses', 'region'], 2017, \"driving licenses v/s regions\", ['Regions', \"Driving Licenses\"])"
   ]
  },
  {
   "cell_type": "markdown",
   "metadata": {
    "colab_type": "text",
    "id": "8dDs8Vqv2hdw"
   },
   "source": [
    "## Descriptive and Inferential Statistics"
   ]
  },
  {
   "cell_type": "markdown",
   "metadata": {
    "colab_type": "text",
    "id": "4eIFsTrg2hdx"
   },
   "source": [
    "#### Summarizing Distributions\n",
    "\n",
    "Above, we used pandas `describe` to provide quick summary statistics of our numeric columns. We also demonstrated many visual relationships.\n",
    "\n",
    "As data scientists, having a complete understanding of data is imperative prior to modeling.\n",
    "\n",
    "While we will continue to build our analytic tools, we know that measures of *central tendency*, *spread*, and *shape/skewness* provide a quick summary of distributions.\n",
    "\n",
    "For each variable in your data, summarize the underlying distributions (in words & statistics)\n",
    " - Be thorough in your verbal description of these distributions.\n",
    " - Be sure to back up these summaries with statistics."
   ]
  },
  {
   "cell_type": "markdown",
   "metadata": {
    "colab_type": "text",
    "id": "3zSYy_3q2hdx"
   },
   "source": [
    "Answers: Using pandas.describe() ,  We got the central tendency, spread and shape of the numerical datas in datasets.\n",
    "We got the mean, standard deviation, percentiles, etc from which we can analyse our data before we can build our analytical tools."
   ]
  },
  {
   "cell_type": "markdown",
   "metadata": {
    "colab_type": "text",
    "id": "ZoqIme2m2hdy"
   },
   "source": [
    "#### We generally assuming that data we sample from a population will be normally distributed. Do we observe this trend?"
   ]
  },
  {
   "cell_type": "markdown",
   "metadata": {
    "colab_type": "text",
    "id": "Fjq87QIv2hdz"
   },
   "source": [
    "Answer: Yes it is normally distributed a little bit we can observe it in histograms."
   ]
  },
  {
   "cell_type": "markdown",
   "metadata": {
    "colab_type": "text",
    "id": "CF8Fisny2hd0"
   },
   "source": [
    "Does This Assumption Hold for:\n",
    "    - Driving Licenses\n",
    "    - Traffic Accidents\n",
    "Explain your answers for each distribution and how you think this will affect estimates made from these data."
   ]
  },
  {
   "cell_type": "markdown",
   "metadata": {
    "colab_type": "text",
    "id": "LFimelqB2hd2"
   },
   "source": [
    "Answer: No, for driving licenses , most of the people not have driving liceses leading to non normally distributed data. We can also observe this in histogram."
   ]
  },
  {
   "cell_type": "markdown",
   "metadata": {
    "colab_type": "text",
    "id": "B00bPOQu2hd5"
   },
   "source": [
    "#### Statistical Evaluation of Distributions \n",
    "\n",
    "**If you feel it's appropriate**, using methods we discussed in class, run hypothesis tests to compare variables of interest in our dataset. "
   ]
  },
  {
   "cell_type": "code",
   "execution_count": 50,
   "metadata": {
    "colab": {
     "base_uri": "https://localhost:8080/",
     "height": 50
    },
    "colab_type": "code",
    "id": "Y_UVHa-p2hd6",
    "outputId": "5b3ff56f-3dba-412e-a8d5-046bd6f1e7a6"
   },
   "outputs": [
    {
     "name": "stdout",
     "output_type": "stream",
     "text": [
      "Population for driving_x and traffic_x are same\n",
      "Population for driving_y and traffic_y are same\n"
     ]
    }
   ],
   "source": [
    "# Code\n",
    "# lets check null hypothesis for traffic_x and driving_x\n",
    "# using pandas.decribe() to check the mean and standard deviation to fall within 95% of the population\n",
    "stats = merged_df.describe()\n",
    "# since mean of driving_x is more than traffic_x\n",
    "z = stats[\"driving_x\"][\"mean\"] - stats[\"traffic_x\"][\"mean\"]\n",
    "z /= stats[\"driving_x\"][\"std\"]\n",
    "if z < 0.05:     # for to be in 95 % of population\n",
    "  print(\"Population for driving_x and traffic_x are same\")\n",
    "else:\n",
    "  print(\"Population for driving_x and traffic_x are not same\")\n",
    "  \n",
    "  \n",
    "# lets check null hypothesis for traffic_y and driving_y\n",
    "# using pandas.decribe() to check the mean and standard deviation to fall within 95% of the population\n",
    "# since mean of driving_x is more than traffic_x\n",
    "z = stats[\"driving_y\"][\"mean\"] - stats[\"traffic_y\"][\"mean\"]\n",
    "z /= stats[\"driving_y\"][\"std\"]\n",
    "if z < 0.05:     # for to be in 95 % of population\n",
    "  print(\"Population for driving_y and traffic_y are same\")\n",
    "else:\n",
    "  print(\"Population for driving_y and traffic_y are not same\")"
   ]
  },
  {
   "cell_type": "markdown",
   "metadata": {
    "colab_type": "text",
    "id": "IL0rbN0w2hd8"
   },
   "source": [
    "## Outside Research"
   ]
  },
  {
   "cell_type": "markdown",
   "metadata": {
    "colab_type": "text",
    "id": "OZtvNziF2hd9"
   },
   "source": [
    "Based upon your observations, choose **three** regions that demonstrate interesting trends in the number of driving licenses and traffic accidents. Spend some time doing outside research on provincial and central policies that might influence these rates, and summarize your findings below. **Feel free to go back and create new plots that highlight these states of interest**. If you bring in any outside tables or charts, make sure you are explicit about having borrowed them. If you quote any text, make sure that it renders as being quoted. (Make sure that you cite your sources -- check with you local instructor for citation preferences)."
   ]
  },
  {
   "cell_type": "markdown",
   "metadata": {
    "colab_type": "text",
    "id": "b83gWD9T2hd9"
   },
   "source": [
    "Answer: Three regions should be (Makkah, Najran and Riyadha) where there are most traffic accidents, least traffic accidents and most driving licenses. These data will give a lot information to study the traffic accidents thier dependences since the population of both the datasets are same."
   ]
  },
  {
   "cell_type": "markdown",
   "metadata": {
    "colab_type": "text",
    "id": "ACjpwMZN2hd-"
   },
   "source": [
    "## Conclusions and Recommendations"
   ]
  },
  {
   "cell_type": "markdown",
   "metadata": {
    "colab_type": "text",
    "id": "_LvsSO2d2hd_"
   },
   "source": [
    "- Based on your exploration of the data, what are you key takeaways and recommendations?\n",
    "- Are there additional data you desire that would better inform your investigations?"
   ]
  },
  {
   "cell_type": "markdown",
   "metadata": {
    "colab_type": "text",
    "id": "OcZmmdCy2heA"
   },
   "source": [
    "Answer: In all of the cities if there are more driving licenses there are less traffic accidents and vice versa.\n",
    "\n",
    "Additional data - We can also have a data where age group in traffic accidents can give us the information in which age group our drivin\n",
    "g licenses must be made compulsary."
   ]
  },
  {
   "cell_type": "code",
   "execution_count": 0,
   "metadata": {
    "colab": {},
    "colab_type": "code",
    "id": "qOtYUte9etZ5"
   },
   "outputs": [],
   "source": []
  }
 ],
 "metadata": {
  "anaconda-cloud": {},
  "colab": {
   "collapsed_sections": [
    "ExEt_c4r2hcJ"
   ],
   "name": "driving_traffic_assignment.ipynb",
   "provenance": [],
   "toc_visible": true
  },
  "kernelspec": {
   "display_name": "Python 3",
   "language": "python",
   "name": "python3"
  },
  "language_info": {
   "codemirror_mode": {
    "name": "ipython",
    "version": 3
   },
   "file_extension": ".py",
   "mimetype": "text/x-python",
   "name": "python",
   "nbconvert_exporter": "python",
   "pygments_lexer": "ipython3",
   "version": "3.7.3"
  }
 },
 "nbformat": 4,
 "nbformat_minor": 1
}
